{
 "cells": [
  {
   "cell_type": "code",
   "execution_count": 38,
   "id": "33ed1717",
   "metadata": {},
   "outputs": [],
   "source": [
    "%matplotlib inline\n",
    "import sys\n",
    "import numpy as np\n",
    "import pandas as pd\n",
    "import matplotlib.pyplot as plt\n",
    "import datetime\n",
    "import os\n",
    "import glob\n",
    "import csv"
   ]
  },
  {
   "cell_type": "code",
   "execution_count": 34,
   "id": "3588320f",
   "metadata": {},
   "outputs": [],
   "source": [
    "os.chdir('/Users/arun_mini/Desktop/github/Project2_Sam_Arun/Boston_all_employee_earnings/')\n",
    "df=pd.read_csv('employee-earnings-report-2016.csv',encoding = \"ISO-8859-1\")\n",
    "df['YEAR']=2016\n",
    "df.head()\n",
    "df.to_csv('employee-earnings-report-2016_1.csv')"
   ]
  },
  {
   "cell_type": "code",
   "execution_count": null,
   "id": "f8913b68",
   "metadata": {},
   "outputs": [],
   "source": []
  },
  {
   "cell_type": "code",
   "execution_count": 17,
   "id": "0d9aee61",
   "metadata": {},
   "outputs": [
    {
     "data": {
      "text/plain": [
       "(21902, 12)"
      ]
     },
     "execution_count": 17,
     "metadata": {},
     "output_type": "execute_result"
    }
   ],
   "source": [
    "os.chdir('/Users/arun_mini/Desktop/github/Project2_Sam_Arun/Boston_all_employee_earnings/')\n",
    "df1=pd.read_csv('employee-earnings-report-2015.csv')\n",
    "df1.shape"
   ]
  },
  {
   "cell_type": "code",
   "execution_count": 19,
   "id": "d58cef79",
   "metadata": {},
   "outputs": [
    {
     "data": {
      "text/plain": [
       "(22046, 12)"
      ]
     },
     "execution_count": 19,
     "metadata": {},
     "output_type": "execute_result"
    }
   ],
   "source": [
    "df2=pd.read_csv('employee-earnings-report-2016.csv',encoding=\"ISO-8859-1\")\n",
    "df2.shape"
   ]
  },
  {
   "cell_type": "code",
   "execution_count": 20,
   "id": "8fed2b6e",
   "metadata": {},
   "outputs": [
    {
     "data": {
      "text/plain": [
       "(22245, 12)"
      ]
     },
     "execution_count": 20,
     "metadata": {},
     "output_type": "execute_result"
    }
   ],
   "source": [
    "df3=pd.read_csv('employee-earnings-report-2017.csv',encoding=\"ISO-8859-1\")\n",
    "df3.shape"
   ]
  },
  {
   "cell_type": "code",
   "execution_count": 21,
   "id": "70c7e815",
   "metadata": {},
   "outputs": [
    {
     "data": {
      "text/plain": [
       "(23605, 12)"
      ]
     },
     "execution_count": 21,
     "metadata": {},
     "output_type": "execute_result"
    }
   ],
   "source": [
    "df4=pd.read_csv('employee-earnings-report-2018.csv',encoding=\"ISO-8859-1\")\n",
    "df4.shape"
   ]
  },
  {
   "cell_type": "code",
   "execution_count": 22,
   "id": "15981334",
   "metadata": {},
   "outputs": [
    {
     "data": {
      "text/plain": [
       "(23312, 12)"
      ]
     },
     "execution_count": 22,
     "metadata": {},
     "output_type": "execute_result"
    }
   ],
   "source": [
    "df5=pd.read_csv('employee-earnings-report-2019.csv',encoding=\"ISO-8859-1\")\n",
    "df5.shape"
   ]
  },
  {
   "cell_type": "code",
   "execution_count": 23,
   "id": "9b5031f8",
   "metadata": {},
   "outputs": [
    {
     "data": {
      "text/plain": [
       "(21858, 12)"
      ]
     },
     "execution_count": 23,
     "metadata": {},
     "output_type": "execute_result"
    }
   ],
   "source": [
    "df6=pd.read_csv('employee-earnings-report-2020.csv',encoding=\"ISO-8859-1\")\n",
    "df6.shape"
   ]
  },
  {
   "cell_type": "code",
   "execution_count": 26,
   "id": "b22bbd13",
   "metadata": {},
   "outputs": [
    {
     "name": "stderr",
     "output_type": "stream",
     "text": [
      "/opt/anaconda3/lib/python3.8/site-packages/IPython/core/interactiveshell.py:3444: DtypeWarning: Columns (14,15,16,17,18,19,20,21,22,23,24) have mixed types.Specify dtype option on import or set low_memory=False.\n",
      "  exec(code_obj, self.user_global_ns, self.user_ns)\n"
     ]
    },
    {
     "data": {
      "text/plain": [
       "(134968, 25)"
      ]
     },
     "execution_count": 26,
     "metadata": {},
     "output_type": "execute_result"
    }
   ],
   "source": [
    "os.chdir('/Users/arun_mini/Desktop/github/Project2_Sam_Arun/Boston_all_employee_earnings/cleaned_data/')\n",
    "df7=pd.read_csv('combined_allemployee_earnings_2015-2020.csv',encoding=\"ISO-8859-1\")\n",
    "df7.shape"
   ]
  },
  {
   "cell_type": "code",
   "execution_count": 42,
   "id": "e5450e6e",
   "metadata": {},
   "outputs": [],
   "source": [
    "os.chdir('/Users/arun_mini/Desktop/github/Project2_Sam_Arun/cleaned_data/')\n",
    "from glob import glob\n",
    "\n",
    "filename = 'employee-earnings-report-2015_1.csv'\n",
    "\n",
    "with open(filename, 'a',encoding='ISO-8859-1') as singleFile:\n",
    "    first_csv = True\n",
    "    for csv in glob('*.csv'):\n",
    "        if csv == filename:\n",
    "            pass\n",
    "        else:\n",
    "            header = True\n",
    "            for line in open(csv, 'r',encoding='ISO-8859-1'):\n",
    "                if first_csv and header:\n",
    "                    singleFile.write(line)\n",
    "                    first_csv = False\n",
    "                    header = False\n",
    "                elif header:\n",
    "                    header = False\n",
    "                else:\n",
    "                    singleFile.write(line)\n",
    "    singleFile.close()"
   ]
  },
  {
   "cell_type": "code",
   "execution_count": null,
   "id": "646e6654",
   "metadata": {},
   "outputs": [],
   "source": []
  }
 ],
 "metadata": {
  "kernelspec": {
   "display_name": "Python 3 (ipykernel)",
   "language": "python",
   "name": "python3"
  },
  "language_info": {
   "codemirror_mode": {
    "name": "ipython",
    "version": 3
   },
   "file_extension": ".py",
   "mimetype": "text/x-python",
   "name": "python",
   "nbconvert_exporter": "python",
   "pygments_lexer": "ipython3",
   "version": "3.8.8"
  }
 },
 "nbformat": 4,
 "nbformat_minor": 5
}
