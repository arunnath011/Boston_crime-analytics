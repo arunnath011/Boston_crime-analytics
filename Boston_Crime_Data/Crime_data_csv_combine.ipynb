{
 "cells": [
  {
   "cell_type": "code",
   "execution_count": 12,
   "id": "df75d01b",
   "metadata": {},
   "outputs": [],
   "source": [
    "%matplotlib inline\n",
    "import sys\n",
    "import numpy as np\n",
    "import pandas as pd\n",
    "import matplotlib.pyplot as plt\n",
    "import datetime\n",
    "import os\n",
    "import glob\n",
    "import csv\n",
    "\n"
   ]
  },
  {
   "cell_type": "code",
   "execution_count": 13,
   "id": "8134cfed",
   "metadata": {},
   "outputs": [],
   "source": [
    "os.chdir('/Users/arun_mini/Desktop/github/Project2_Sam_Arun/Boston_Crime_Data/')\n",
    "\n",
    "filenames = [i for i in glob.glob(\"cr*.csv\")]\n",
    "header_keys = []\n",
    "merged_rows = []\n",
    "\n",
    "for filename in filenames:\n",
    "    with open(filename) as f:\n",
    "        reader = csv.DictReader(f)\n",
    "        merged_rows.extend(list(reader))\n",
    "        header_keys.extend([key for key in reader.fieldnames if key not in header_keys])\n",
    "\n",
    "with open(\"combined.csv\", \"w\") as f:\n",
    "    w = csv.DictWriter(f, fieldnames=header_keys)\n",
    "    w.writeheader()\n",
    "    w.writerows(merged_rows)"
   ]
  },
  {
   "cell_type": "code",
   "execution_count": null,
   "id": "c9b9f6b8",
   "metadata": {},
   "outputs": [],
   "source": []
  }
 ],
 "metadata": {
  "kernelspec": {
   "display_name": "Python 3 (ipykernel)",
   "language": "python",
   "name": "python3"
  },
  "language_info": {
   "codemirror_mode": {
    "name": "ipython",
    "version": 3
   },
   "file_extension": ".py",
   "mimetype": "text/x-python",
   "name": "python",
   "nbconvert_exporter": "python",
   "pygments_lexer": "ipython3",
   "version": "3.8.8"
  }
 },
 "nbformat": 4,
 "nbformat_minor": 5
}
